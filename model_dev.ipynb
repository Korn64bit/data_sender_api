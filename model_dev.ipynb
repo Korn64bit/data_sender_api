{
 "cells": [
  {
   "cell_type": "code",
   "execution_count": 1,
   "id": "b0219c8f",
   "metadata": {},
   "outputs": [],
   "source": [
    "import pandas as pd\n",
    "%matplotlib inline\n",
    "import matplotlib.pyplot as plt\n",
    "import seaborn as sns\n",
    "import numpy as np"
   ]
  },
  {
   "cell_type": "code",
   "execution_count": 2,
   "id": "d0304539",
   "metadata": {},
   "outputs": [
    {
     "data": {
      "text/html": [
       "<div>\n",
       "<style scoped>\n",
       "    .dataframe tbody tr th:only-of-type {\n",
       "        vertical-align: middle;\n",
       "    }\n",
       "\n",
       "    .dataframe tbody tr th {\n",
       "        vertical-align: top;\n",
       "    }\n",
       "\n",
       "    .dataframe thead th {\n",
       "        text-align: right;\n",
       "    }\n",
       "</style>\n",
       "<table border=\"1\" class=\"dataframe\">\n",
       "  <thead>\n",
       "    <tr style=\"text-align: right;\">\n",
       "      <th></th>\n",
       "      <th>UDI</th>\n",
       "      <th>Product ID</th>\n",
       "      <th>Type</th>\n",
       "      <th>Air temperature [K]</th>\n",
       "      <th>Process temperature [K]</th>\n",
       "      <th>Rotational speed [rpm]</th>\n",
       "      <th>Torque [Nm]</th>\n",
       "      <th>Tool wear [min]</th>\n",
       "      <th>Machine failure</th>\n",
       "      <th>TWF</th>\n",
       "      <th>HDF</th>\n",
       "      <th>PWF</th>\n",
       "      <th>OSF</th>\n",
       "      <th>RNF</th>\n",
       "    </tr>\n",
       "  </thead>\n",
       "  <tbody>\n",
       "    <tr>\n",
       "      <th>0</th>\n",
       "      <td>1</td>\n",
       "      <td>M14860</td>\n",
       "      <td>M</td>\n",
       "      <td>298.1</td>\n",
       "      <td>308.6</td>\n",
       "      <td>1551</td>\n",
       "      <td>42.8</td>\n",
       "      <td>0</td>\n",
       "      <td>0</td>\n",
       "      <td>0</td>\n",
       "      <td>0</td>\n",
       "      <td>0</td>\n",
       "      <td>0</td>\n",
       "      <td>0</td>\n",
       "    </tr>\n",
       "    <tr>\n",
       "      <th>1</th>\n",
       "      <td>2</td>\n",
       "      <td>L47181</td>\n",
       "      <td>L</td>\n",
       "      <td>298.2</td>\n",
       "      <td>308.7</td>\n",
       "      <td>1408</td>\n",
       "      <td>46.3</td>\n",
       "      <td>3</td>\n",
       "      <td>0</td>\n",
       "      <td>0</td>\n",
       "      <td>0</td>\n",
       "      <td>0</td>\n",
       "      <td>0</td>\n",
       "      <td>0</td>\n",
       "    </tr>\n",
       "    <tr>\n",
       "      <th>2</th>\n",
       "      <td>3</td>\n",
       "      <td>L47182</td>\n",
       "      <td>L</td>\n",
       "      <td>298.1</td>\n",
       "      <td>308.5</td>\n",
       "      <td>1498</td>\n",
       "      <td>49.4</td>\n",
       "      <td>5</td>\n",
       "      <td>0</td>\n",
       "      <td>0</td>\n",
       "      <td>0</td>\n",
       "      <td>0</td>\n",
       "      <td>0</td>\n",
       "      <td>0</td>\n",
       "    </tr>\n",
       "    <tr>\n",
       "      <th>3</th>\n",
       "      <td>4</td>\n",
       "      <td>L47183</td>\n",
       "      <td>L</td>\n",
       "      <td>298.2</td>\n",
       "      <td>308.6</td>\n",
       "      <td>1433</td>\n",
       "      <td>39.5</td>\n",
       "      <td>7</td>\n",
       "      <td>0</td>\n",
       "      <td>0</td>\n",
       "      <td>0</td>\n",
       "      <td>0</td>\n",
       "      <td>0</td>\n",
       "      <td>0</td>\n",
       "    </tr>\n",
       "    <tr>\n",
       "      <th>4</th>\n",
       "      <td>5</td>\n",
       "      <td>L47184</td>\n",
       "      <td>L</td>\n",
       "      <td>298.2</td>\n",
       "      <td>308.7</td>\n",
       "      <td>1408</td>\n",
       "      <td>40.0</td>\n",
       "      <td>9</td>\n",
       "      <td>0</td>\n",
       "      <td>0</td>\n",
       "      <td>0</td>\n",
       "      <td>0</td>\n",
       "      <td>0</td>\n",
       "      <td>0</td>\n",
       "    </tr>\n",
       "  </tbody>\n",
       "</table>\n",
       "</div>"
      ],
      "text/plain": [
       "   UDI Product ID Type  Air temperature [K]  Process temperature [K]  \\\n",
       "0    1     M14860    M                298.1                    308.6   \n",
       "1    2     L47181    L                298.2                    308.7   \n",
       "2    3     L47182    L                298.1                    308.5   \n",
       "3    4     L47183    L                298.2                    308.6   \n",
       "4    5     L47184    L                298.2                    308.7   \n",
       "\n",
       "   Rotational speed [rpm]  Torque [Nm]  Tool wear [min]  Machine failure  TWF  \\\n",
       "0                    1551         42.8                0                0    0   \n",
       "1                    1408         46.3                3                0    0   \n",
       "2                    1498         49.4                5                0    0   \n",
       "3                    1433         39.5                7                0    0   \n",
       "4                    1408         40.0                9                0    0   \n",
       "\n",
       "   HDF  PWF  OSF  RNF  \n",
       "0    0    0    0    0  \n",
       "1    0    0    0    0  \n",
       "2    0    0    0    0  \n",
       "3    0    0    0    0  \n",
       "4    0    0    0    0  "
      ]
     },
     "execution_count": 2,
     "metadata": {},
     "output_type": "execute_result"
    }
   ],
   "source": [
    "df = pd.read_csv('https://raw.githubusercontent.com/Korn64bit/data_sender_api/refs/heads/main/flask/ai4i2020.csv')\n",
    "df.head()"
   ]
  },
  {
   "cell_type": "code",
   "execution_count": 5,
   "id": "f1f0dffa",
   "metadata": {},
   "outputs": [
    {
     "data": {
      "text/html": [
       "<div>\n",
       "<style scoped>\n",
       "    .dataframe tbody tr th:only-of-type {\n",
       "        vertical-align: middle;\n",
       "    }\n",
       "\n",
       "    .dataframe tbody tr th {\n",
       "        vertical-align: top;\n",
       "    }\n",
       "\n",
       "    .dataframe thead th {\n",
       "        text-align: right;\n",
       "    }\n",
       "</style>\n",
       "<table border=\"1\" class=\"dataframe\">\n",
       "  <thead>\n",
       "    <tr style=\"text-align: right;\">\n",
       "      <th></th>\n",
       "      <th>UDI</th>\n",
       "      <th>product_id</th>\n",
       "      <th>type</th>\n",
       "      <th>air_temp_k</th>\n",
       "      <th>process_temp_k</th>\n",
       "      <th>rotational_speed_rpm</th>\n",
       "      <th>torque_nm</th>\n",
       "      <th>tool_wear_min</th>\n",
       "      <th>machine_failure</th>\n",
       "      <th>TWF</th>\n",
       "      <th>HDF</th>\n",
       "      <th>PWF</th>\n",
       "      <th>OSF</th>\n",
       "      <th>RNF</th>\n",
       "    </tr>\n",
       "  </thead>\n",
       "  <tbody>\n",
       "    <tr>\n",
       "      <th>0</th>\n",
       "      <td>1</td>\n",
       "      <td>M14860</td>\n",
       "      <td>M</td>\n",
       "      <td>298.1</td>\n",
       "      <td>308.6</td>\n",
       "      <td>1551</td>\n",
       "      <td>42.8</td>\n",
       "      <td>0</td>\n",
       "      <td>0</td>\n",
       "      <td>0</td>\n",
       "      <td>0</td>\n",
       "      <td>0</td>\n",
       "      <td>0</td>\n",
       "      <td>0</td>\n",
       "    </tr>\n",
       "    <tr>\n",
       "      <th>1</th>\n",
       "      <td>2</td>\n",
       "      <td>L47181</td>\n",
       "      <td>L</td>\n",
       "      <td>298.2</td>\n",
       "      <td>308.7</td>\n",
       "      <td>1408</td>\n",
       "      <td>46.3</td>\n",
       "      <td>3</td>\n",
       "      <td>0</td>\n",
       "      <td>0</td>\n",
       "      <td>0</td>\n",
       "      <td>0</td>\n",
       "      <td>0</td>\n",
       "      <td>0</td>\n",
       "    </tr>\n",
       "    <tr>\n",
       "      <th>2</th>\n",
       "      <td>3</td>\n",
       "      <td>L47182</td>\n",
       "      <td>L</td>\n",
       "      <td>298.1</td>\n",
       "      <td>308.5</td>\n",
       "      <td>1498</td>\n",
       "      <td>49.4</td>\n",
       "      <td>5</td>\n",
       "      <td>0</td>\n",
       "      <td>0</td>\n",
       "      <td>0</td>\n",
       "      <td>0</td>\n",
       "      <td>0</td>\n",
       "      <td>0</td>\n",
       "    </tr>\n",
       "    <tr>\n",
       "      <th>3</th>\n",
       "      <td>4</td>\n",
       "      <td>L47183</td>\n",
       "      <td>L</td>\n",
       "      <td>298.2</td>\n",
       "      <td>308.6</td>\n",
       "      <td>1433</td>\n",
       "      <td>39.5</td>\n",
       "      <td>7</td>\n",
       "      <td>0</td>\n",
       "      <td>0</td>\n",
       "      <td>0</td>\n",
       "      <td>0</td>\n",
       "      <td>0</td>\n",
       "      <td>0</td>\n",
       "    </tr>\n",
       "    <tr>\n",
       "      <th>4</th>\n",
       "      <td>5</td>\n",
       "      <td>L47184</td>\n",
       "      <td>L</td>\n",
       "      <td>298.2</td>\n",
       "      <td>308.7</td>\n",
       "      <td>1408</td>\n",
       "      <td>40.0</td>\n",
       "      <td>9</td>\n",
       "      <td>0</td>\n",
       "      <td>0</td>\n",
       "      <td>0</td>\n",
       "      <td>0</td>\n",
       "      <td>0</td>\n",
       "      <td>0</td>\n",
       "    </tr>\n",
       "  </tbody>\n",
       "</table>\n",
       "</div>"
      ],
      "text/plain": [
       "   UDI product_id type  air_temp_k  process_temp_k  rotational_speed_rpm  \\\n",
       "0    1     M14860    M       298.1           308.6                  1551   \n",
       "1    2     L47181    L       298.2           308.7                  1408   \n",
       "2    3     L47182    L       298.1           308.5                  1498   \n",
       "3    4     L47183    L       298.2           308.6                  1433   \n",
       "4    5     L47184    L       298.2           308.7                  1408   \n",
       "\n",
       "   torque_nm  tool_wear_min  machine_failure  TWF  HDF  PWF  OSF  RNF  \n",
       "0       42.8              0                0    0    0    0    0    0  \n",
       "1       46.3              3                0    0    0    0    0    0  \n",
       "2       49.4              5                0    0    0    0    0    0  \n",
       "3       39.5              7                0    0    0    0    0    0  \n",
       "4       40.0              9                0    0    0    0    0    0  "
      ]
     },
     "execution_count": 5,
     "metadata": {},
     "output_type": "execute_result"
    }
   ],
   "source": [
    "df_renamed = df.rename(columns={'Product ID': 'product_id',\n",
    "                                'Type': 'type',\n",
    "                                'Air temperature [K]': 'air_temp_k', \n",
    "                                'Process temperature [K]': 'process_temp_k',\n",
    "                                'Rotational speed [rpm]': 'rotational_speed_rpm',\n",
    "                                'Torque [Nm]': 'torque_nm',\n",
    "                                'Tool wear [min]': 'tool_wear_min',\n",
    "                                'Machine failure': 'machine_failure'})\n",
    "df_renamed.head()"
   ]
  },
  {
   "cell_type": "code",
   "execution_count": 6,
   "id": "552a4927",
   "metadata": {},
   "outputs": [],
   "source": [
    "df_renamed.to_csv('ai4i_renamed.csv')"
   ]
  },
  {
   "cell_type": "code",
   "execution_count": 14,
   "id": "7a37f942",
   "metadata": {},
   "outputs": [
    {
     "data": {
      "text/html": [
       "<div>\n",
       "<style scoped>\n",
       "    .dataframe tbody tr th:only-of-type {\n",
       "        vertical-align: middle;\n",
       "    }\n",
       "\n",
       "    .dataframe tbody tr th {\n",
       "        vertical-align: top;\n",
       "    }\n",
       "\n",
       "    .dataframe thead th {\n",
       "        text-align: right;\n",
       "    }\n",
       "</style>\n",
       "<table border=\"1\" class=\"dataframe\">\n",
       "  <thead>\n",
       "    <tr style=\"text-align: right;\">\n",
       "      <th></th>\n",
       "      <th>UDI</th>\n",
       "      <th>product_id</th>\n",
       "      <th>type</th>\n",
       "      <th>air_temp_k</th>\n",
       "      <th>process_temp_k</th>\n",
       "      <th>rotational_speed_rpm</th>\n",
       "      <th>torque_nm</th>\n",
       "      <th>tool_wear_min</th>\n",
       "      <th>machine_failure</th>\n",
       "      <th>TWF</th>\n",
       "      <th>HDF</th>\n",
       "      <th>PWF</th>\n",
       "      <th>OSF</th>\n",
       "      <th>RNF</th>\n",
       "      <th>type_encoded</th>\n",
       "    </tr>\n",
       "  </thead>\n",
       "  <tbody>\n",
       "    <tr>\n",
       "      <th>0</th>\n",
       "      <td>1</td>\n",
       "      <td>M14860</td>\n",
       "      <td>M</td>\n",
       "      <td>298.1</td>\n",
       "      <td>308.6</td>\n",
       "      <td>1551</td>\n",
       "      <td>42.8</td>\n",
       "      <td>0</td>\n",
       "      <td>0</td>\n",
       "      <td>0</td>\n",
       "      <td>0</td>\n",
       "      <td>0</td>\n",
       "      <td>0</td>\n",
       "      <td>0</td>\n",
       "      <td>2</td>\n",
       "    </tr>\n",
       "    <tr>\n",
       "      <th>1</th>\n",
       "      <td>2</td>\n",
       "      <td>L47181</td>\n",
       "      <td>L</td>\n",
       "      <td>298.2</td>\n",
       "      <td>308.7</td>\n",
       "      <td>1408</td>\n",
       "      <td>46.3</td>\n",
       "      <td>3</td>\n",
       "      <td>0</td>\n",
       "      <td>0</td>\n",
       "      <td>0</td>\n",
       "      <td>0</td>\n",
       "      <td>0</td>\n",
       "      <td>0</td>\n",
       "      <td>1</td>\n",
       "    </tr>\n",
       "    <tr>\n",
       "      <th>2</th>\n",
       "      <td>3</td>\n",
       "      <td>L47182</td>\n",
       "      <td>L</td>\n",
       "      <td>298.1</td>\n",
       "      <td>308.5</td>\n",
       "      <td>1498</td>\n",
       "      <td>49.4</td>\n",
       "      <td>5</td>\n",
       "      <td>0</td>\n",
       "      <td>0</td>\n",
       "      <td>0</td>\n",
       "      <td>0</td>\n",
       "      <td>0</td>\n",
       "      <td>0</td>\n",
       "      <td>1</td>\n",
       "    </tr>\n",
       "    <tr>\n",
       "      <th>3</th>\n",
       "      <td>4</td>\n",
       "      <td>L47183</td>\n",
       "      <td>L</td>\n",
       "      <td>298.2</td>\n",
       "      <td>308.6</td>\n",
       "      <td>1433</td>\n",
       "      <td>39.5</td>\n",
       "      <td>7</td>\n",
       "      <td>0</td>\n",
       "      <td>0</td>\n",
       "      <td>0</td>\n",
       "      <td>0</td>\n",
       "      <td>0</td>\n",
       "      <td>0</td>\n",
       "      <td>1</td>\n",
       "    </tr>\n",
       "    <tr>\n",
       "      <th>4</th>\n",
       "      <td>5</td>\n",
       "      <td>L47184</td>\n",
       "      <td>L</td>\n",
       "      <td>298.2</td>\n",
       "      <td>308.7</td>\n",
       "      <td>1408</td>\n",
       "      <td>40.0</td>\n",
       "      <td>9</td>\n",
       "      <td>0</td>\n",
       "      <td>0</td>\n",
       "      <td>0</td>\n",
       "      <td>0</td>\n",
       "      <td>0</td>\n",
       "      <td>0</td>\n",
       "      <td>1</td>\n",
       "    </tr>\n",
       "  </tbody>\n",
       "</table>\n",
       "</div>"
      ],
      "text/plain": [
       "   UDI product_id type  air_temp_k  process_temp_k  rotational_speed_rpm  \\\n",
       "0    1     M14860    M       298.1           308.6                  1551   \n",
       "1    2     L47181    L       298.2           308.7                  1408   \n",
       "2    3     L47182    L       298.1           308.5                  1498   \n",
       "3    4     L47183    L       298.2           308.6                  1433   \n",
       "4    5     L47184    L       298.2           308.7                  1408   \n",
       "\n",
       "   torque_nm  tool_wear_min  machine_failure  TWF  HDF  PWF  OSF  RNF  \\\n",
       "0       42.8              0                0    0    0    0    0    0   \n",
       "1       46.3              3                0    0    0    0    0    0   \n",
       "2       49.4              5                0    0    0    0    0    0   \n",
       "3       39.5              7                0    0    0    0    0    0   \n",
       "4       40.0              9                0    0    0    0    0    0   \n",
       "\n",
       "   type_encoded  \n",
       "0             2  \n",
       "1             1  \n",
       "2             1  \n",
       "3             1  \n",
       "4             1  "
      ]
     },
     "metadata": {},
     "output_type": "display_data"
    },
    {
     "name": "stdout",
     "output_type": "stream",
     "text": [
      "H -> 0\n",
      "L -> 1\n",
      "M -> 2\n"
     ]
    }
   ],
   "source": [
    "from sklearn.preprocessing import LabelEncoder\n",
    "\n",
    "labelencoder = LabelEncoder()\n",
    "\n",
    "encoded_column = 'type'\n",
    "df_rdy = df_renamed.copy()\n",
    "df_rdy[encoded_column + '_encoded'] = labelencoder.fit_transform(df_renamed[encoded_column]).copy()\n",
    "display(df_rdy.head())\n",
    "mapping = {original_val: encoded_val for encoded_val, original_val in enumerate(labelencoder.classes_)}\n",
    "for original, encoded in mapping.items():\n",
    "    print(f'{original} -> {encoded}')"
   ]
  },
  {
   "cell_type": "code",
   "execution_count": 36,
   "id": "72bddb27",
   "metadata": {},
   "outputs": [
    {
     "data": {
      "text/plain": [
       "((15444, 6), (15444,))"
      ]
     },
     "execution_count": 36,
     "metadata": {},
     "output_type": "execute_result"
    }
   ],
   "source": [
    "from sklearn.model_selection import train_test_split\n",
    "from imblearn.over_sampling import SMOTE\n",
    "\n",
    "X = df_rdy[['type_encoded', 'air_temp_k', 'process_temp_k', 'rotational_speed_rpm', 'torque_nm', 'tool_wear_min']]\n",
    "y = df_rdy['machine_failure']\n",
    "X_train, X_test, y_train, y_test = train_test_split(X, y, test_size=0.2, random_state=42)\n",
    "\n",
    "smote = SMOTE(k_neighbors=5, random_state=42)\n",
    "X_train_smote, y_train_smote = smote.fit_resample(X_train, y_train)\n",
    "X_train_smote.shape, y_train_smote.shape\n"
   ]
  },
  {
   "cell_type": "code",
   "execution_count": 55,
   "id": "59daf233",
   "metadata": {},
   "outputs": [
    {
     "name": "stdout",
     "output_type": "stream",
     "text": [
      "SMOTE + Tomek Links: (15286, 6) (15286,)\n",
      "SMOTE + ENN: (13911, 6) (13911,)\n"
     ]
    }
   ],
   "source": [
    "from imblearn.combine import SMOTETomek, SMOTEENN\n",
    "\n",
    "# SMOTE + Tomek Links\n",
    "smote_tomek = SMOTETomek(random_state=42)\n",
    "X_train_smote_tomek, y_train_smote_tomek = smote_tomek.fit_resample(X_train, y_train)\n",
    "print(\"SMOTE + Tomek Links:\", X_train_smote_tomek.shape, y_train_smote_tomek.shape)\n",
    "\n",
    "# SMOTE + ENN\n",
    "smote_enn = SMOTEENN(random_state=42)\n",
    "X_train_smote_enn, y_train_smote_enn = smote_enn.fit_resample(X_train, y_train)\n",
    "print(\"SMOTE + ENN:\", X_train_smote_enn.shape, y_train_smote_enn.shape)"
   ]
  },
  {
   "cell_type": "code",
   "execution_count": 37,
   "id": "2a43b583",
   "metadata": {},
   "outputs": [
    {
     "name": "stdout",
     "output_type": "stream",
     "text": [
      "Fitting 5 folds for each of 510 candidates, totalling 2550 fits\n",
      "\n",
      "Best parameters found for Logistic Regression:\n",
      "{'logreg__C': 0.1, 'logreg__max_iter': 100, 'logreg__penalty': 'l2', 'logreg__solver': 'liblinear'}\n",
      "Best accuracy score: 0.8335\n"
     ]
    }
   ],
   "source": [
    "from sklearn.linear_model import LogisticRegression\n",
    "from sklearn.model_selection import GridSearchCV\n",
    "from sklearn.pipeline import Pipeline\n",
    "from sklearn.preprocessing import StandardScaler\n",
    "\n",
    "pipeline = Pipeline([\n",
    "    ('scaler', StandardScaler()),\n",
    "    ('logreg', LogisticRegression(random_state=42))\n",
    "])\n",
    "\n",
    "param_grid_logreg = [\n",
    "    {\n",
    "        'logreg__solver': ['liblinear'], # liblinear is good for small datasets and supports l1/l2\n",
    "        'logreg__penalty': ['l1', 'l2'],\n",
    "        'logreg__C': [0.01, 0.1, 1, 10, 100],\n",
    "        'logreg__max_iter': [100, 200] # liblinear usually converges fast\n",
    "    },\n",
    "    {\n",
    "        'logreg__solver': ['lbfgs', 'newton-cg', 'sag'], # These support 'l2' or no penalty\n",
    "        'logreg__penalty': ['l2', None], # Or 'none' if using older scikit-learn\n",
    "        'logreg__C': [0.01, 0.1, 1, 10, 100],\n",
    "        'logreg__max_iter': [100, 200, 500] # sag might need more iterations\n",
    "    },\n",
    "    {\n",
    "        'logreg__solver': ['saga'], # saga is versatile\n",
    "        'logreg__penalty': ['elasticnet', 'l1', 'l2', None],\n",
    "        'logreg__C': [0.01, 0.1, 1, 10, 100],\n",
    "        'logreg__l1_ratio': np.linspace(0.1, 0.9, 5).tolist(), # Only for elasticnet, avoid 0 and 1 if also testing l1/l2 separately\n",
    "        'logreg__max_iter': [100, 200, 500, 1000] # saga might need more iterations\n",
    "    }\n",
    "]\n",
    "\n",
    "grid_search_logreg = GridSearchCV(estimator=pipeline,\n",
    "                                  param_grid=param_grid_logreg,\n",
    "                                  cv=5,\n",
    "                                  scoring='accuracy',\n",
    "                                  n_jobs=-1,\n",
    "                                  verbose=1)\n",
    "grid_search_logreg.fit(X_train_smote, y_train_smote)\n",
    "best_logreg_pipeline = grid_search_logreg.best_estimator_\n",
    "print(\"\\nBest parameters found for Logistic Regression:\")\n",
    "print(grid_search_logreg.best_params_)\n",
    "print(f\"Best accuracy score: {grid_search_logreg.best_score_:.4f}\")"
   ]
  },
  {
   "cell_type": "code",
   "execution_count": 38,
   "id": "ee91ce45",
   "metadata": {},
   "outputs": [
    {
     "name": "stdout",
     "output_type": "stream",
     "text": [
      "              precision    recall  f1-score   support\n",
      "\n",
      "           0       0.99      0.84      0.91      1939\n",
      "           1       0.14      0.84      0.24        61\n",
      "\n",
      "    accuracy                           0.84      2000\n",
      "   macro avg       0.57      0.84      0.57      2000\n",
      "weighted avg       0.97      0.84      0.89      2000\n",
      "\n"
     ]
    }
   ],
   "source": [
    "from sklearn.metrics import classification_report\n",
    "\n",
    "best_logreg_pipeline.fit(X_train_smote, y_train_smote)\n",
    "y_pred = best_logreg_pipeline.predict(X_test)\n",
    "report = classification_report(y_test, y_pred)\n",
    "print(report)"
   ]
  },
  {
   "cell_type": "code",
   "execution_count": 45,
   "id": "cba88526",
   "metadata": {},
   "outputs": [
    {
     "data": {
      "text/plain": [
       "['model/logreg_model.pkl']"
      ]
     },
     "execution_count": 45,
     "metadata": {},
     "output_type": "execute_result"
    }
   ],
   "source": [
    "import joblib\n",
    "\n",
    "joblib.dump(best_logreg_pipeline, 'model/logreg_model.pkl')"
   ]
  },
  {
   "cell_type": "code",
   "execution_count": 42,
   "id": "1fd37bd0",
   "metadata": {},
   "outputs": [
    {
     "name": "stdout",
     "output_type": "stream",
     "text": [
      "Fitting 5 folds for each of 216 candidates, totalling 1080 fits\n",
      "\n",
      "Best parameters found for Random Forest Classifier:\n",
      "{'bootstrap': False, 'max_depth': None, 'min_samples_leaf': 1, 'min_samples_split': 2, 'n_estimators': 300}\n",
      "Best accuracy score: 0.9808\n"
     ]
    }
   ],
   "source": [
    "from sklearn.ensemble import RandomForestClassifier\n",
    "\n",
    "param_grid_rfc = {\n",
    "    'n_estimators': [100, 200, 300],  # Number of trees in the forest\n",
    "    'max_depth': [None, 10, 20, 30],   # Maximum depth of the tree\n",
    "    'min_samples_split': [2, 5, 10],    # Minimum number of samples required to split an internal node\n",
    "    'min_samples_leaf': [1, 2, 4],     # Minimum number of samples required to be at a leaf node\n",
    "    'bootstrap': [True, False]\n",
    "}\n",
    "\n",
    "rfc = RandomForestClassifier(random_state=42)\n",
    "grid_search_rfc = GridSearchCV(estimator=rfc, \n",
    "                               param_grid=param_grid_rfc,\n",
    "                               cv=5,\n",
    "                               scoring='accuracy',\n",
    "                               n_jobs=-1,\n",
    "                               verbose=1)\n",
    "grid_search_rfc.fit(X_train_smote, y_train_smote)\n",
    "best_rfc = grid_search_rfc.best_estimator_\n",
    "print(\"\\nBest parameters found for Random Forest Classifier:\")\n",
    "print(grid_search_rfc.best_params_)\n",
    "print(f\"Best accuracy score: {grid_search_rfc.best_score_:.4f}\")"
   ]
  },
  {
   "cell_type": "code",
   "execution_count": 44,
   "id": "b3db607e",
   "metadata": {},
   "outputs": [
    {
     "name": "stdout",
     "output_type": "stream",
     "text": [
      "              precision    recall  f1-score   support\n",
      "\n",
      "           0       0.99      0.97      0.98      1939\n",
      "           1       0.46      0.72      0.56        61\n",
      "\n",
      "    accuracy                           0.97      2000\n",
      "   macro avg       0.72      0.85      0.77      2000\n",
      "weighted avg       0.97      0.97      0.97      2000\n",
      "\n"
     ]
    }
   ],
   "source": [
    "from sklearn.metrics import classification_report\n",
    "\n",
    "best_rfc.fit(X_train_smote, y_train_smote)\n",
    "y_pred = best_rfc.predict(X_test)\n",
    "report = classification_report(y_test, y_pred)\n",
    "print(report)"
   ]
  },
  {
   "cell_type": "code",
   "execution_count": 46,
   "id": "28bbedf7",
   "metadata": {},
   "outputs": [
    {
     "data": {
      "text/plain": [
       "['model/rfc_model.pkl']"
      ]
     },
     "execution_count": 46,
     "metadata": {},
     "output_type": "execute_result"
    }
   ],
   "source": [
    "import joblib\n",
    "\n",
    "joblib.dump(best_rfc, 'model/rfc_model.pkl')"
   ]
  },
  {
   "cell_type": "code",
   "execution_count": null,
   "id": "e6d3e4b7",
   "metadata": {},
   "outputs": [
    {
     "name": "stdout",
     "output_type": "stream",
     "text": [
      "Fitting 5 folds for each of 972 candidates, totalling 4860 fits\n",
      "\n",
      "Best parameters found for XGBoost Classifier:\n",
      "{'colsample_bytree': 0.7, 'gamma': 0.1, 'learning_rate': 0.2, 'max_depth': 7, 'min_child_weight': 1, 'n_estimators': 200, 'subsample': 0.9}\n",
      "Best accuracy score: 0.9848\n"
     ]
    }
   ],
   "source": [
    "import xgboost as xgb\n",
    "from xgboost import XGBClassifier\n",
    "\n",
    "param_grid_xgb = {\n",
    "    'n_estimators': [100, 200, 300],\n",
    "    'max_depth': [3, 5, 7],\n",
    "    'learning_rate': [0.05, 0.1, 0.2],\n",
    "    'min_child_weight': [1, 3],\n",
    "    'subsample': [0.7, 0.8, 0.9],\n",
    "    'colsample_bytree': [0.7, 0.9],\n",
    "    'gamma': [0, 0.1, 0.2],\n",
    "    # 'reg_alpha': [0, 0.01, 0.1],\n",
    "    # 'reg_lambda': [0.1, 1]\n",
    "}\n",
    "\n",
    "\n",
    "xgbc = XGBClassifier(random_state=42)\n",
    "grid_search_xgb = GridSearchCV(estimator=xgbc, \n",
    "                               param_grid=param_grid_xgb,\n",
    "                               cv=5,\n",
    "                               scoring='accuracy',\n",
    "                               n_jobs=-1,\n",
    "                               verbose=1)\n",
    "grid_search_xgb.fit(X_train_smote, y_train_smote)\n",
    "best_xgb = grid_search_xgb.best_estimator_\n",
    "print(\"\\nBest parameters found for XGBoost Classifier:\")\n",
    "print(grid_search_xgb.best_params_)\n",
    "print(f\"Best accuracy score: {grid_search_xgb.best_score_:.4f}\")"
   ]
  },
  {
   "cell_type": "code",
   "execution_count": 53,
   "id": "9cbbcf9f",
   "metadata": {},
   "outputs": [
    {
     "name": "stdout",
     "output_type": "stream",
     "text": [
      "              precision    recall  f1-score   support\n",
      "\n",
      "           0       0.99      0.97      0.98      1939\n",
      "           1       0.46      0.72      0.56        61\n",
      "\n",
      "    accuracy                           0.97      2000\n",
      "   macro avg       0.72      0.85      0.77      2000\n",
      "weighted avg       0.97      0.97      0.97      2000\n",
      "\n"
     ]
    }
   ],
   "source": [
    "from sklearn.metrics import classification_report\n",
    "\n",
    "best_xgb.fit(X_train_smote, y_train_smote)\n",
    "y_pred = best_xgb.predict(X_test)\n",
    "report = classification_report(y_test, y_pred)\n",
    "print(report)"
   ]
  },
  {
   "cell_type": "code",
   "execution_count": 54,
   "id": "7e5d4511",
   "metadata": {},
   "outputs": [
    {
     "data": {
      "text/plain": [
       "['model/xgbclassifier.pkl']"
      ]
     },
     "execution_count": 54,
     "metadata": {},
     "output_type": "execute_result"
    }
   ],
   "source": [
    "import joblib\n",
    "\n",
    "joblib.dump(best_xgb, 'model/xgbclassifier.pkl')"
   ]
  },
  {
   "cell_type": "code",
   "execution_count": 62,
   "id": "90314250",
   "metadata": {},
   "outputs": [
    {
     "name": "stdout",
     "output_type": "stream",
     "text": [
      "Fitting 5 folds for each of 972 candidates, totalling 4860 fits\n",
      "\n",
      "Best parameters found for XGBoost Classifier:\n",
      "{'colsample_bytree': 0.7, 'gamma': 0.1, 'learning_rate': 0.2, 'max_depth': 7, 'min_child_weight': 1, 'n_estimators': 300, 'subsample': 0.9}\n",
      "Best accuracy score: 0.9866\n"
     ]
    }
   ],
   "source": [
    "import xgboost as xgb\n",
    "from xgboost import XGBClassifier\n",
    "\n",
    "param_grid_xgb = {\n",
    "    'n_estimators': [100, 200, 300],\n",
    "    'max_depth': [3, 5, 7],\n",
    "    'learning_rate': [0.05, 0.1, 0.2],\n",
    "    'min_child_weight': [1, 3],\n",
    "    'subsample': [0.7, 0.8, 0.9],\n",
    "    'colsample_bytree': [0.7, 0.9],\n",
    "    'gamma': [0, 0.1, 0.2],\n",
    "}\n",
    "\n",
    "\n",
    "xgbc = XGBClassifier(random_state=42)\n",
    "grid_search_xgb_2 = GridSearchCV(estimator=xgbc, \n",
    "                               param_grid=param_grid_xgb,\n",
    "                               cv=5,\n",
    "                               scoring='accuracy',\n",
    "                               n_jobs=-1,\n",
    "                               verbose=1)\n",
    "grid_search_xgb_2.fit(X_train_smote_tomek, y_train_smote_tomek)\n",
    "best_xgb_2 = grid_search_xgb_2.best_estimator_\n",
    "print(\"\\nBest parameters found for XGBoost Classifier:\")\n",
    "print(grid_search_xgb_2.best_params_)\n",
    "print(f\"Best accuracy score: {grid_search_xgb_2.best_score_:.4f}\")"
   ]
  },
  {
   "cell_type": "code",
   "execution_count": 63,
   "id": "7b30bd1a",
   "metadata": {},
   "outputs": [
    {
     "name": "stdout",
     "output_type": "stream",
     "text": [
      "              precision    recall  f1-score   support\n",
      "\n",
      "           0       0.99      0.97      0.98      1939\n",
      "           1       0.46      0.74      0.57        61\n",
      "\n",
      "    accuracy                           0.97      2000\n",
      "   macro avg       0.73      0.86      0.77      2000\n",
      "weighted avg       0.98      0.97      0.97      2000\n",
      "\n"
     ]
    }
   ],
   "source": [
    "from sklearn.metrics import classification_report\n",
    "\n",
    "best_xgb_2.fit(X_train_smote, y_train_smote)\n",
    "y_pred = best_xgb_2.predict(X_test)\n",
    "report = classification_report(y_test, y_pred)\n",
    "print(report)"
   ]
  },
  {
   "cell_type": "code",
   "execution_count": 64,
   "id": "330d43c1",
   "metadata": {},
   "outputs": [
    {
     "name": "stdout",
     "output_type": "stream",
     "text": [
      "Fitting 5 folds for each of 972 candidates, totalling 4860 fits\n",
      "\n",
      "Best parameters found for XGBoost Classifier:\n",
      "{'colsample_bytree': 0.9, 'gamma': 0, 'learning_rate': 0.2, 'max_depth': 7, 'min_child_weight': 1, 'n_estimators': 300, 'subsample': 0.9}\n",
      "Best accuracy score: 0.9921\n"
     ]
    }
   ],
   "source": [
    "import xgboost as xgb\n",
    "from xgboost import XGBClassifier\n",
    "\n",
    "param_grid_xgb = {\n",
    "    'n_estimators': [100, 200, 300],\n",
    "    'max_depth': [3, 5, 7],\n",
    "    'learning_rate': [0.05, 0.1, 0.2],\n",
    "    'min_child_weight': [1, 3],\n",
    "    'subsample': [0.7, 0.8, 0.9],\n",
    "    'colsample_bytree': [0.7, 0.9],\n",
    "    'gamma': [0, 0.1, 0.2],\n",
    "}\n",
    "\n",
    "\n",
    "xgbc = XGBClassifier(random_state=42)\n",
    "grid_search_xgb_3 = GridSearchCV(estimator=xgbc, \n",
    "                               param_grid=param_grid_xgb,\n",
    "                               cv=5,\n",
    "                               scoring='accuracy',\n",
    "                               n_jobs=-1,\n",
    "                               verbose=1)\n",
    "grid_search_xgb_3.fit(X_train_smote_enn, y_train_smote_enn)\n",
    "best_xgb_3 = grid_search_xgb_3.best_estimator_\n",
    "print(\"\\nBest parameters found for XGBoost Classifier:\")\n",
    "print(grid_search_xgb_3.best_params_)\n",
    "print(f\"Best accuracy score: {grid_search_xgb_3.best_score_:.4f}\")"
   ]
  },
  {
   "cell_type": "code",
   "execution_count": 65,
   "id": "9373c4e1",
   "metadata": {},
   "outputs": [
    {
     "name": "stdout",
     "output_type": "stream",
     "text": [
      "              precision    recall  f1-score   support\n",
      "\n",
      "           0       0.99      0.97      0.98      1939\n",
      "           1       0.48      0.77      0.59        61\n",
      "\n",
      "    accuracy                           0.97      2000\n",
      "   macro avg       0.74      0.87      0.79      2000\n",
      "weighted avg       0.98      0.97      0.97      2000\n",
      "\n"
     ]
    }
   ],
   "source": [
    "from sklearn.metrics import classification_report\n",
    "\n",
    "best_xgb_3.fit(X_train_smote, y_train_smote)\n",
    "y_pred = best_xgb_3.predict(X_test)\n",
    "report = classification_report(y_test, y_pred)\n",
    "print(report)"
   ]
  },
  {
   "cell_type": "code",
   "execution_count": 66,
   "id": "76dd1ed7",
   "metadata": {},
   "outputs": [
    {
     "data": {
      "text/plain": [
       "['model/xgbclassifier.pkl']"
      ]
     },
     "execution_count": 66,
     "metadata": {},
     "output_type": "execute_result"
    }
   ],
   "source": [
    "import joblib\n",
    "\n",
    "joblib.dump(best_xgb_3, 'model/xgbclassifier.pkl')"
   ]
  },
  {
   "cell_type": "code",
   "execution_count": 70,
   "id": "4d8e7ef6",
   "metadata": {},
   "outputs": [
    {
     "data": {
      "image/png": "[encoded data removed]",
      "text/plain": [
       "<Figure size 800x600 with 1 Axes>"
      ]
     },
     "metadata": {},
     "output_type": "display_data"
    }
   ],
   "source": [
    "from sklearn.metrics import roc_curve, roc_auc_score\n",
    "\n",
    "# Logistic Regression\n",
    "y_proba_logreg = best_logreg_pipeline.predict_proba(X_test)[:, 1]\n",
    "fpr_logreg, tpr_logreg, _ = roc_curve(y_test, y_proba_logreg)\n",
    "auc_logreg = roc_auc_score(y_test, y_proba_logreg)\n",
    "\n",
    "# Random Forest\n",
    "y_proba_rfc = best_rfc.predict_proba(X_test)[:, 1]\n",
    "fpr_rfc, tpr_rfc, _ = roc_curve(y_test, y_proba_rfc)\n",
    "auc_rfc = roc_auc_score(y_test, y_proba_rfc)\n",
    "\n",
    "# XGBoost (already computed as fpr, tpr, auc_score)\n",
    "# fpr, tpr, auc_score\n",
    "\n",
    "plt.figure(figsize=(8, 6))\n",
    "plt.plot(fpr_logreg, tpr_logreg, label=f'Logistic Regression (AUC = {auc_logreg:.3f})')\n",
    "plt.plot(fpr_rfc, tpr_rfc, label=f'Random Forest (AUC = {auc_rfc:.3f})')\n",
    "plt.plot(fpr, tpr, label=f'XGBoost (AUC = {auc_score:.3f})')\n",
    "plt.plot([0, 1], [0, 1], 'k--', label='Random Chance')\n",
    "plt.xlabel('False Positive Rate')\n",
    "plt.ylabel('True Positive Rate')\n",
    "plt.title('ROC Curve Comparison')\n",
    "plt.legend(loc='lower right')\n",
    "plt.grid(True)\n",
    "plt.show()"
   ]
  }
 ],
 "metadata": {
  "kernelspec": {
   "display_name": "Python 3",
   "language": "python",
   "name": "python3"
  },
  "language_info": {
   "codemirror_mode": {
    "name": "ipython",
    "version": 3
   },
   "file_extension": ".py",
   "mimetype": "text/x-python",
   "name": "python",
   "nbconvert_exporter": "python",
   "pygments_lexer": "ipython3",
   "version": "3.11.5"
  }
 },
 "nbformat": 4,
 "nbformat_minor": 5
}
